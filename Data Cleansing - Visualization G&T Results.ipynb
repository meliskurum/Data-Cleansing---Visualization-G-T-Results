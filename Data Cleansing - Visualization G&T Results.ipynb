{
 "cells": [
  {
   "cell_type": "code",
   "execution_count": 1,
   "metadata": {},
   "outputs": [],
   "source": [
    "import numpy as np\n",
    "import pandas as pd\n",
    "import matplotlib.pyplot as plt\n",
    "%matplotlib inline\n",
    "import seaborn as sns"
   ]
  },
  {
   "cell_type": "code",
   "execution_count": 2,
   "metadata": {},
   "outputs": [
    {
     "data": {
      "text/html": [
       "<div>\n",
       "<style scoped>\n",
       "    .dataframe tbody tr th:only-of-type {\n",
       "        vertical-align: middle;\n",
       "    }\n",
       "\n",
       "    .dataframe tbody tr th {\n",
       "        vertical-align: top;\n",
       "    }\n",
       "\n",
       "    .dataframe thead th {\n",
       "        text-align: right;\n",
       "    }\n",
       "</style>\n",
       "<table border=\"1\" class=\"dataframe\">\n",
       "  <thead>\n",
       "    <tr style=\"text-align: right;\">\n",
       "      <th></th>\n",
       "      <th>Timestamp</th>\n",
       "      <th>Entering Grade Level</th>\n",
       "      <th>District</th>\n",
       "      <th>Birth Month</th>\n",
       "      <th>OLSAT Verbal Score</th>\n",
       "      <th>OLSAT Verbal Percentile</th>\n",
       "      <th>NNAT Non Verbal Raw Score</th>\n",
       "      <th>NNAT Non Verbal Percentile</th>\n",
       "      <th>Overall Score</th>\n",
       "      <th>School Preferences</th>\n",
       "      <th>School Assigned</th>\n",
       "      <th>Will you enroll there?</th>\n",
       "    </tr>\n",
       "  </thead>\n",
       "  <tbody>\n",
       "    <tr>\n",
       "      <th>0</th>\n",
       "      <td>4/8/2017 6:44:01</td>\n",
       "      <td>1</td>\n",
       "      <td>6.0</td>\n",
       "      <td>September</td>\n",
       "      <td>28</td>\n",
       "      <td>99</td>\n",
       "      <td>45</td>\n",
       "      <td>99</td>\n",
       "      <td>99</td>\n",
       "      <td>NEST+m, TAG, Anderson, Q300</td>\n",
       "      <td>NEST</td>\n",
       "      <td>YES</td>\n",
       "    </tr>\n",
       "    <tr>\n",
       "      <th>1</th>\n",
       "      <td>4/7/2017 10:40:45</td>\n",
       "      <td>K</td>\n",
       "      <td>NaN</td>\n",
       "      <td>August</td>\n",
       "      <td>25</td>\n",
       "      <td>99</td>\n",
       "      <td>39</td>\n",
       "      <td>99</td>\n",
       "      <td>99</td>\n",
       "      <td>Anderson, NEST+m</td>\n",
       "      <td>NaN</td>\n",
       "      <td>Maybe</td>\n",
       "    </tr>\n",
       "    <tr>\n",
       "      <th>2</th>\n",
       "      <td>4/7/2017 10:41:56</td>\n",
       "      <td>1</td>\n",
       "      <td>NaN</td>\n",
       "      <td>March</td>\n",
       "      <td>27</td>\n",
       "      <td>96</td>\n",
       "      <td>42</td>\n",
       "      <td>99</td>\n",
       "      <td>98</td>\n",
       "      <td>NaN</td>\n",
       "      <td>NaN</td>\n",
       "      <td>Maybe</td>\n",
       "    </tr>\n",
       "    <tr>\n",
       "      <th>3</th>\n",
       "      <td>4/7/2017 10:43:31</td>\n",
       "      <td>K</td>\n",
       "      <td>NaN</td>\n",
       "      <td>September</td>\n",
       "      <td>23</td>\n",
       "      <td>97</td>\n",
       "      <td>40</td>\n",
       "      <td>99</td>\n",
       "      <td>98</td>\n",
       "      <td>NaN</td>\n",
       "      <td>NaN</td>\n",
       "      <td>NaN</td>\n",
       "    </tr>\n",
       "    <tr>\n",
       "      <th>4</th>\n",
       "      <td>4/10/2017 10:18:34</td>\n",
       "      <td>K</td>\n",
       "      <td>22.0</td>\n",
       "      <td>April</td>\n",
       "      <td>25</td>\n",
       "      <td>98</td>\n",
       "      <td>38</td>\n",
       "      <td>99</td>\n",
       "      <td>99</td>\n",
       "      <td>Brooklyn School of Inquiry</td>\n",
       "      <td>Currently - local Brooklyn dual language</td>\n",
       "      <td>Maybe</td>\n",
       "    </tr>\n",
       "  </tbody>\n",
       "</table>\n",
       "</div>"
      ],
      "text/plain": [
       "            Timestamp Entering Grade Level  District Birth Month  \\\n",
       "0    4/8/2017 6:44:01                    1       6.0   September   \n",
       "1   4/7/2017 10:40:45                    K       NaN      August   \n",
       "2   4/7/2017 10:41:56                    1       NaN       March   \n",
       "3   4/7/2017 10:43:31                    K       NaN   September   \n",
       "4  4/10/2017 10:18:34                    K      22.0       April   \n",
       "\n",
       "  OLSAT Verbal Score OLSAT Verbal Percentile NNAT Non Verbal Raw Score  \\\n",
       "0                 28                      99                        45   \n",
       "1                 25                      99                        39   \n",
       "2                 27                      96                        42   \n",
       "3                 23                      97                        40   \n",
       "4                 25                      98                        38   \n",
       "\n",
       "   NNAT Non Verbal Percentile  Overall Score           School Preferences  \\\n",
       "0                          99             99  NEST+m, TAG, Anderson, Q300   \n",
       "1                          99             99             Anderson, NEST+m   \n",
       "2                          99             98                          NaN   \n",
       "3                          99             98                          NaN   \n",
       "4                          99             99   Brooklyn School of Inquiry   \n",
       "\n",
       "                            School Assigned Will you enroll there?  \n",
       "0                                      NEST                    YES  \n",
       "1                                       NaN                  Maybe  \n",
       "2                                       NaN                  Maybe  \n",
       "3                                       NaN                    NaN  \n",
       "4  Currently - local Brooklyn dual language                  Maybe  "
      ]
     },
     "execution_count": 2,
     "metadata": {},
     "output_type": "execute_result"
    }
   ],
   "source": [
    "df = pd.read_csv('G&T Results 2017-18 (Responses) - Form Responses 1.csv')\n",
    "df.head()"
   ]
  },
  {
   "cell_type": "markdown",
   "metadata": {},
   "source": [
    "## Data Cleansing"
   ]
  },
  {
   "cell_type": "code",
   "execution_count": 3,
   "metadata": {},
   "outputs": [
    {
     "data": {
      "text/plain": [
       "Index(['Timestamp', 'Entering Grade Level', 'District', 'Birth Month',\n",
       "       'OLSAT Verbal Score', 'OLSAT Verbal Percentile',\n",
       "       'NNAT Non Verbal Raw Score', 'NNAT Non Verbal Percentile',\n",
       "       'Overall Score', 'School Preferences', 'School Assigned',\n",
       "       'Will you enroll there?'],\n",
       "      dtype='object')"
      ]
     },
     "execution_count": 3,
     "metadata": {},
     "output_type": "execute_result"
    }
   ],
   "source": [
    "df.columns"
   ]
  },
  {
   "cell_type": "code",
   "execution_count": 4,
   "metadata": {},
   "outputs": [
    {
     "name": "stdout",
     "output_type": "stream",
     "text": [
      "<class 'pandas.core.frame.DataFrame'>\n",
      "RangeIndex: 117 entries, 0 to 116\n",
      "Data columns (total 12 columns):\n",
      " #   Column                      Non-Null Count  Dtype  \n",
      "---  ------                      --------------  -----  \n",
      " 0   Timestamp                   117 non-null    object \n",
      " 1   Entering Grade Level        117 non-null    object \n",
      " 2   District                    101 non-null    float64\n",
      " 3   Birth Month                 117 non-null    object \n",
      " 4   OLSAT Verbal Score          117 non-null    object \n",
      " 5   OLSAT Verbal Percentile     117 non-null    object \n",
      " 6   NNAT Non Verbal Raw Score   117 non-null    object \n",
      " 7   NNAT Non Verbal Percentile  117 non-null    int64  \n",
      " 8   Overall Score               117 non-null    int64  \n",
      " 9   School Preferences          75 non-null     object \n",
      " 10  School Assigned             29 non-null     object \n",
      " 11  Will you enroll there?      71 non-null     object \n",
      "dtypes: float64(1), int64(2), object(9)\n",
      "memory usage: 11.1+ KB\n"
     ]
    }
   ],
   "source": [
    "df.info()"
   ]
  },
  {
   "cell_type": "code",
   "execution_count": 5,
   "metadata": {},
   "outputs": [
    {
     "data": {
      "text/plain": [
       "(117, 12)"
      ]
     },
     "execution_count": 5,
     "metadata": {},
     "output_type": "execute_result"
    }
   ],
   "source": [
    "df.shape"
   ]
  },
  {
   "cell_type": "code",
   "execution_count": 7,
   "metadata": {},
   "outputs": [],
   "source": [
    "df['Timestamp'] = pd.to_datetime(df['Timestamp'])"
   ]
  },
  {
   "cell_type": "code",
   "execution_count": 8,
   "metadata": {},
   "outputs": [
    {
     "data": {
      "text/html": [
       "<div>\n",
       "<style scoped>\n",
       "    .dataframe tbody tr th:only-of-type {\n",
       "        vertical-align: middle;\n",
       "    }\n",
       "\n",
       "    .dataframe tbody tr th {\n",
       "        vertical-align: top;\n",
       "    }\n",
       "\n",
       "    .dataframe thead th {\n",
       "        text-align: right;\n",
       "    }\n",
       "</style>\n",
       "<table border=\"1\" class=\"dataframe\">\n",
       "  <thead>\n",
       "    <tr style=\"text-align: right;\">\n",
       "      <th></th>\n",
       "      <th>Timestamp</th>\n",
       "      <th>Entering Grade Level</th>\n",
       "      <th>District</th>\n",
       "      <th>Birth Month</th>\n",
       "      <th>OLSAT Verbal Score</th>\n",
       "      <th>OLSAT Verbal Percentile</th>\n",
       "      <th>NNAT Non Verbal Raw Score</th>\n",
       "      <th>NNAT Non Verbal Percentile</th>\n",
       "      <th>Overall Score</th>\n",
       "      <th>School Preferences</th>\n",
       "      <th>School Assigned</th>\n",
       "      <th>Will you enroll there?</th>\n",
       "    </tr>\n",
       "  </thead>\n",
       "  <tbody>\n",
       "    <tr>\n",
       "      <th>0</th>\n",
       "      <td>2017-04-08 06:44:01</td>\n",
       "      <td>1</td>\n",
       "      <td>6.0</td>\n",
       "      <td>September</td>\n",
       "      <td>28</td>\n",
       "      <td>99</td>\n",
       "      <td>45</td>\n",
       "      <td>99</td>\n",
       "      <td>99</td>\n",
       "      <td>NEST+m, TAG, Anderson, Q300</td>\n",
       "      <td>NEST</td>\n",
       "      <td>YES</td>\n",
       "    </tr>\n",
       "    <tr>\n",
       "      <th>1</th>\n",
       "      <td>2017-04-07 10:40:45</td>\n",
       "      <td>K</td>\n",
       "      <td>NaN</td>\n",
       "      <td>August</td>\n",
       "      <td>25</td>\n",
       "      <td>99</td>\n",
       "      <td>39</td>\n",
       "      <td>99</td>\n",
       "      <td>99</td>\n",
       "      <td>Anderson, NEST+m</td>\n",
       "      <td>NaN</td>\n",
       "      <td>Maybe</td>\n",
       "    </tr>\n",
       "    <tr>\n",
       "      <th>2</th>\n",
       "      <td>2017-04-07 10:41:56</td>\n",
       "      <td>1</td>\n",
       "      <td>NaN</td>\n",
       "      <td>March</td>\n",
       "      <td>27</td>\n",
       "      <td>96</td>\n",
       "      <td>42</td>\n",
       "      <td>99</td>\n",
       "      <td>98</td>\n",
       "      <td>NaN</td>\n",
       "      <td>NaN</td>\n",
       "      <td>Maybe</td>\n",
       "    </tr>\n",
       "    <tr>\n",
       "      <th>3</th>\n",
       "      <td>2017-04-07 10:43:31</td>\n",
       "      <td>K</td>\n",
       "      <td>NaN</td>\n",
       "      <td>September</td>\n",
       "      <td>23</td>\n",
       "      <td>97</td>\n",
       "      <td>40</td>\n",
       "      <td>99</td>\n",
       "      <td>98</td>\n",
       "      <td>NaN</td>\n",
       "      <td>NaN</td>\n",
       "      <td>NaN</td>\n",
       "    </tr>\n",
       "    <tr>\n",
       "      <th>4</th>\n",
       "      <td>2017-04-10 10:18:34</td>\n",
       "      <td>K</td>\n",
       "      <td>22.0</td>\n",
       "      <td>April</td>\n",
       "      <td>25</td>\n",
       "      <td>98</td>\n",
       "      <td>38</td>\n",
       "      <td>99</td>\n",
       "      <td>99</td>\n",
       "      <td>Brooklyn School of Inquiry</td>\n",
       "      <td>Currently - local Brooklyn dual language</td>\n",
       "      <td>Maybe</td>\n",
       "    </tr>\n",
       "  </tbody>\n",
       "</table>\n",
       "</div>"
      ],
      "text/plain": [
       "            Timestamp Entering Grade Level  District Birth Month  \\\n",
       "0 2017-04-08 06:44:01                    1       6.0   September   \n",
       "1 2017-04-07 10:40:45                    K       NaN      August   \n",
       "2 2017-04-07 10:41:56                    1       NaN       March   \n",
       "3 2017-04-07 10:43:31                    K       NaN   September   \n",
       "4 2017-04-10 10:18:34                    K      22.0       April   \n",
       "\n",
       "  OLSAT Verbal Score OLSAT Verbal Percentile NNAT Non Verbal Raw Score  \\\n",
       "0                 28                      99                        45   \n",
       "1                 25                      99                        39   \n",
       "2                 27                      96                        42   \n",
       "3                 23                      97                        40   \n",
       "4                 25                      98                        38   \n",
       "\n",
       "   NNAT Non Verbal Percentile  Overall Score           School Preferences  \\\n",
       "0                          99             99  NEST+m, TAG, Anderson, Q300   \n",
       "1                          99             99             Anderson, NEST+m   \n",
       "2                          99             98                          NaN   \n",
       "3                          99             98                          NaN   \n",
       "4                          99             99   Brooklyn School of Inquiry   \n",
       "\n",
       "                            School Assigned Will you enroll there?  \n",
       "0                                      NEST                    YES  \n",
       "1                                       NaN                  Maybe  \n",
       "2                                       NaN                  Maybe  \n",
       "3                                       NaN                    NaN  \n",
       "4  Currently - local Brooklyn dual language                  Maybe  "
      ]
     },
     "execution_count": 8,
     "metadata": {},
     "output_type": "execute_result"
    }
   ],
   "source": [
    "df.head()"
   ]
  },
  {
   "cell_type": "code",
   "execution_count": 9,
   "metadata": {},
   "outputs": [
    {
     "data": {
      "text/plain": [
       "K    77\n",
       "1    28\n",
       "2    10\n",
       "3     2\n",
       "Name: Entering Grade Level, dtype: int64"
      ]
     },
     "execution_count": 9,
     "metadata": {},
     "output_type": "execute_result"
    }
   ],
   "source": [
    "df['Entering Grade Level'].value_counts()"
   ]
  },
  {
   "cell_type": "code",
   "execution_count": 10,
   "metadata": {},
   "outputs": [],
   "source": [
    "df['Entering Grade Level'].replace('K', '0', inplace = True)"
   ]
  },
  {
   "cell_type": "code",
   "execution_count": 11,
   "metadata": {},
   "outputs": [
    {
     "data": {
      "text/html": [
       "<div>\n",
       "<style scoped>\n",
       "    .dataframe tbody tr th:only-of-type {\n",
       "        vertical-align: middle;\n",
       "    }\n",
       "\n",
       "    .dataframe tbody tr th {\n",
       "        vertical-align: top;\n",
       "    }\n",
       "\n",
       "    .dataframe thead th {\n",
       "        text-align: right;\n",
       "    }\n",
       "</style>\n",
       "<table border=\"1\" class=\"dataframe\">\n",
       "  <thead>\n",
       "    <tr style=\"text-align: right;\">\n",
       "      <th></th>\n",
       "      <th>Timestamp</th>\n",
       "      <th>Entering Grade Level</th>\n",
       "      <th>District</th>\n",
       "      <th>Birth Month</th>\n",
       "      <th>OLSAT Verbal Score</th>\n",
       "      <th>OLSAT Verbal Percentile</th>\n",
       "      <th>NNAT Non Verbal Raw Score</th>\n",
       "      <th>NNAT Non Verbal Percentile</th>\n",
       "      <th>Overall Score</th>\n",
       "      <th>School Preferences</th>\n",
       "      <th>School Assigned</th>\n",
       "      <th>Will you enroll there?</th>\n",
       "    </tr>\n",
       "  </thead>\n",
       "  <tbody>\n",
       "    <tr>\n",
       "      <th>0</th>\n",
       "      <td>2017-04-08 06:44:01</td>\n",
       "      <td>1</td>\n",
       "      <td>6.0</td>\n",
       "      <td>September</td>\n",
       "      <td>28</td>\n",
       "      <td>99</td>\n",
       "      <td>45</td>\n",
       "      <td>99</td>\n",
       "      <td>99</td>\n",
       "      <td>NEST+m, TAG, Anderson, Q300</td>\n",
       "      <td>NEST</td>\n",
       "      <td>YES</td>\n",
       "    </tr>\n",
       "    <tr>\n",
       "      <th>1</th>\n",
       "      <td>2017-04-07 10:40:45</td>\n",
       "      <td>0</td>\n",
       "      <td>NaN</td>\n",
       "      <td>August</td>\n",
       "      <td>25</td>\n",
       "      <td>99</td>\n",
       "      <td>39</td>\n",
       "      <td>99</td>\n",
       "      <td>99</td>\n",
       "      <td>Anderson, NEST+m</td>\n",
       "      <td>NaN</td>\n",
       "      <td>Maybe</td>\n",
       "    </tr>\n",
       "    <tr>\n",
       "      <th>2</th>\n",
       "      <td>2017-04-07 10:41:56</td>\n",
       "      <td>1</td>\n",
       "      <td>NaN</td>\n",
       "      <td>March</td>\n",
       "      <td>27</td>\n",
       "      <td>96</td>\n",
       "      <td>42</td>\n",
       "      <td>99</td>\n",
       "      <td>98</td>\n",
       "      <td>NaN</td>\n",
       "      <td>NaN</td>\n",
       "      <td>Maybe</td>\n",
       "    </tr>\n",
       "    <tr>\n",
       "      <th>3</th>\n",
       "      <td>2017-04-07 10:43:31</td>\n",
       "      <td>0</td>\n",
       "      <td>NaN</td>\n",
       "      <td>September</td>\n",
       "      <td>23</td>\n",
       "      <td>97</td>\n",
       "      <td>40</td>\n",
       "      <td>99</td>\n",
       "      <td>98</td>\n",
       "      <td>NaN</td>\n",
       "      <td>NaN</td>\n",
       "      <td>NaN</td>\n",
       "    </tr>\n",
       "    <tr>\n",
       "      <th>4</th>\n",
       "      <td>2017-04-10 10:18:34</td>\n",
       "      <td>0</td>\n",
       "      <td>22.0</td>\n",
       "      <td>April</td>\n",
       "      <td>25</td>\n",
       "      <td>98</td>\n",
       "      <td>38</td>\n",
       "      <td>99</td>\n",
       "      <td>99</td>\n",
       "      <td>Brooklyn School of Inquiry</td>\n",
       "      <td>Currently - local Brooklyn dual language</td>\n",
       "      <td>Maybe</td>\n",
       "    </tr>\n",
       "  </tbody>\n",
       "</table>\n",
       "</div>"
      ],
      "text/plain": [
       "            Timestamp Entering Grade Level  District Birth Month  \\\n",
       "0 2017-04-08 06:44:01                    1       6.0   September   \n",
       "1 2017-04-07 10:40:45                    0       NaN      August   \n",
       "2 2017-04-07 10:41:56                    1       NaN       March   \n",
       "3 2017-04-07 10:43:31                    0       NaN   September   \n",
       "4 2017-04-10 10:18:34                    0      22.0       April   \n",
       "\n",
       "  OLSAT Verbal Score OLSAT Verbal Percentile NNAT Non Verbal Raw Score  \\\n",
       "0                 28                      99                        45   \n",
       "1                 25                      99                        39   \n",
       "2                 27                      96                        42   \n",
       "3                 23                      97                        40   \n",
       "4                 25                      98                        38   \n",
       "\n",
       "   NNAT Non Verbal Percentile  Overall Score           School Preferences  \\\n",
       "0                          99             99  NEST+m, TAG, Anderson, Q300   \n",
       "1                          99             99             Anderson, NEST+m   \n",
       "2                          99             98                          NaN   \n",
       "3                          99             98                          NaN   \n",
       "4                          99             99   Brooklyn School of Inquiry   \n",
       "\n",
       "                            School Assigned Will you enroll there?  \n",
       "0                                      NEST                    YES  \n",
       "1                                       NaN                  Maybe  \n",
       "2                                       NaN                  Maybe  \n",
       "3                                       NaN                    NaN  \n",
       "4  Currently - local Brooklyn dual language                  Maybe  "
      ]
     },
     "execution_count": 11,
     "metadata": {},
     "output_type": "execute_result"
    }
   ],
   "source": [
    "df.head()"
   ]
  },
  {
   "cell_type": "code",
   "execution_count": 12,
   "metadata": {},
   "outputs": [],
   "source": [
    "df['Entering Grade Level'] = pd.to_numeric(df['Entering Grade Level'], errors = 'coerce')"
   ]
  },
  {
   "cell_type": "code",
   "execution_count": 13,
   "metadata": {},
   "outputs": [
    {
     "name": "stdout",
     "output_type": "stream",
     "text": [
      "<class 'pandas.core.frame.DataFrame'>\n",
      "RangeIndex: 117 entries, 0 to 116\n",
      "Data columns (total 12 columns):\n",
      " #   Column                      Non-Null Count  Dtype         \n",
      "---  ------                      --------------  -----         \n",
      " 0   Timestamp                   117 non-null    datetime64[ns]\n",
      " 1   Entering Grade Level        117 non-null    int64         \n",
      " 2   District                    101 non-null    float64       \n",
      " 3   Birth Month                 117 non-null    object        \n",
      " 4   OLSAT Verbal Score          117 non-null    object        \n",
      " 5   OLSAT Verbal Percentile     117 non-null    object        \n",
      " 6   NNAT Non Verbal Raw Score   117 non-null    object        \n",
      " 7   NNAT Non Verbal Percentile  117 non-null    int64         \n",
      " 8   Overall Score               117 non-null    int64         \n",
      " 9   School Preferences          75 non-null     object        \n",
      " 10  School Assigned             29 non-null     object        \n",
      " 11  Will you enroll there?      71 non-null     object        \n",
      "dtypes: datetime64[ns](1), float64(1), int64(3), object(7)\n",
      "memory usage: 11.1+ KB\n"
     ]
    }
   ],
   "source": [
    "df.info()"
   ]
  },
  {
   "cell_type": "code",
   "execution_count": 14,
   "metadata": {},
   "outputs": [
    {
     "data": {
      "text/plain": [
       "2.0     35\n",
       "3.0     14\n",
       "28.0     9\n",
       "26.0     8\n",
       "20.0     6\n",
       "25.0     3\n",
       "30.0     3\n",
       "22.0     3\n",
       "21.0     3\n",
       "32.0     3\n",
       "17.0     2\n",
       "14.0     2\n",
       "11.0     2\n",
       "15.0     2\n",
       "1.0      2\n",
       "4.0      1\n",
       "31.0     1\n",
       "24.0     1\n",
       "6.0      1\n",
       "Name: District, dtype: int64"
      ]
     },
     "execution_count": 14,
     "metadata": {},
     "output_type": "execute_result"
    }
   ],
   "source": [
    "df['District'].value_counts()"
   ]
  },
  {
   "cell_type": "code",
   "execution_count": 15,
   "metadata": {},
   "outputs": [
    {
     "data": {
      "text/plain": [
       "16"
      ]
     },
     "execution_count": 15,
     "metadata": {},
     "output_type": "execute_result"
    }
   ],
   "source": [
    "df.District.isnull().sum()"
   ]
  },
  {
   "cell_type": "code",
   "execution_count": 16,
   "metadata": {},
   "outputs": [],
   "source": [
    "df['District'].replace(np.nan, 2.0, inplace = True)"
   ]
  },
  {
   "cell_type": "code",
   "execution_count": 17,
   "metadata": {},
   "outputs": [],
   "source": [
    "df['District'] = df['District'].astype(int)"
   ]
  },
  {
   "cell_type": "code",
   "execution_count": 18,
   "metadata": {},
   "outputs": [
    {
     "name": "stdout",
     "output_type": "stream",
     "text": [
      "<class 'pandas.core.frame.DataFrame'>\n",
      "RangeIndex: 117 entries, 0 to 116\n",
      "Data columns (total 12 columns):\n",
      " #   Column                      Non-Null Count  Dtype         \n",
      "---  ------                      --------------  -----         \n",
      " 0   Timestamp                   117 non-null    datetime64[ns]\n",
      " 1   Entering Grade Level        117 non-null    int64         \n",
      " 2   District                    117 non-null    int32         \n",
      " 3   Birth Month                 117 non-null    object        \n",
      " 4   OLSAT Verbal Score          117 non-null    object        \n",
      " 5   OLSAT Verbal Percentile     117 non-null    object        \n",
      " 6   NNAT Non Verbal Raw Score   117 non-null    object        \n",
      " 7   NNAT Non Verbal Percentile  117 non-null    int64         \n",
      " 8   Overall Score               117 non-null    int64         \n",
      " 9   School Preferences          75 non-null     object        \n",
      " 10  School Assigned             29 non-null     object        \n",
      " 11  Will you enroll there?      71 non-null     object        \n",
      "dtypes: datetime64[ns](1), int32(1), int64(3), object(7)\n",
      "memory usage: 10.6+ KB\n"
     ]
    }
   ],
   "source": [
    "df.info()"
   ]
  },
  {
   "cell_type": "code",
   "execution_count": 19,
   "metadata": {},
   "outputs": [
    {
     "data": {
      "text/html": [
       "<div>\n",
       "<style scoped>\n",
       "    .dataframe tbody tr th:only-of-type {\n",
       "        vertical-align: middle;\n",
       "    }\n",
       "\n",
       "    .dataframe tbody tr th {\n",
       "        vertical-align: top;\n",
       "    }\n",
       "\n",
       "    .dataframe thead th {\n",
       "        text-align: right;\n",
       "    }\n",
       "</style>\n",
       "<table border=\"1\" class=\"dataframe\">\n",
       "  <thead>\n",
       "    <tr style=\"text-align: right;\">\n",
       "      <th></th>\n",
       "      <th>Timestamp</th>\n",
       "      <th>Entering Grade Level</th>\n",
       "      <th>District</th>\n",
       "      <th>Birth Month</th>\n",
       "      <th>OLSAT Verbal Score</th>\n",
       "      <th>OLSAT Verbal Percentile</th>\n",
       "      <th>NNAT Non Verbal Raw Score</th>\n",
       "      <th>NNAT Non Verbal Percentile</th>\n",
       "      <th>Overall Score</th>\n",
       "      <th>School Preferences</th>\n",
       "      <th>School Assigned</th>\n",
       "      <th>Will you enroll there?</th>\n",
       "    </tr>\n",
       "  </thead>\n",
       "  <tbody>\n",
       "    <tr>\n",
       "      <th>0</th>\n",
       "      <td>2017-04-08 06:44:01</td>\n",
       "      <td>1</td>\n",
       "      <td>6</td>\n",
       "      <td>September</td>\n",
       "      <td>28</td>\n",
       "      <td>99</td>\n",
       "      <td>45</td>\n",
       "      <td>99</td>\n",
       "      <td>99</td>\n",
       "      <td>NEST+m, TAG, Anderson, Q300</td>\n",
       "      <td>NEST</td>\n",
       "      <td>YES</td>\n",
       "    </tr>\n",
       "    <tr>\n",
       "      <th>1</th>\n",
       "      <td>2017-04-07 10:40:45</td>\n",
       "      <td>0</td>\n",
       "      <td>2</td>\n",
       "      <td>August</td>\n",
       "      <td>25</td>\n",
       "      <td>99</td>\n",
       "      <td>39</td>\n",
       "      <td>99</td>\n",
       "      <td>99</td>\n",
       "      <td>Anderson, NEST+m</td>\n",
       "      <td>NaN</td>\n",
       "      <td>Maybe</td>\n",
       "    </tr>\n",
       "    <tr>\n",
       "      <th>2</th>\n",
       "      <td>2017-04-07 10:41:56</td>\n",
       "      <td>1</td>\n",
       "      <td>2</td>\n",
       "      <td>March</td>\n",
       "      <td>27</td>\n",
       "      <td>96</td>\n",
       "      <td>42</td>\n",
       "      <td>99</td>\n",
       "      <td>98</td>\n",
       "      <td>NaN</td>\n",
       "      <td>NaN</td>\n",
       "      <td>Maybe</td>\n",
       "    </tr>\n",
       "    <tr>\n",
       "      <th>3</th>\n",
       "      <td>2017-04-07 10:43:31</td>\n",
       "      <td>0</td>\n",
       "      <td>2</td>\n",
       "      <td>September</td>\n",
       "      <td>23</td>\n",
       "      <td>97</td>\n",
       "      <td>40</td>\n",
       "      <td>99</td>\n",
       "      <td>98</td>\n",
       "      <td>NaN</td>\n",
       "      <td>NaN</td>\n",
       "      <td>NaN</td>\n",
       "    </tr>\n",
       "    <tr>\n",
       "      <th>4</th>\n",
       "      <td>2017-04-10 10:18:34</td>\n",
       "      <td>0</td>\n",
       "      <td>22</td>\n",
       "      <td>April</td>\n",
       "      <td>25</td>\n",
       "      <td>98</td>\n",
       "      <td>38</td>\n",
       "      <td>99</td>\n",
       "      <td>99</td>\n",
       "      <td>Brooklyn School of Inquiry</td>\n",
       "      <td>Currently - local Brooklyn dual language</td>\n",
       "      <td>Maybe</td>\n",
       "    </tr>\n",
       "  </tbody>\n",
       "</table>\n",
       "</div>"
      ],
      "text/plain": [
       "            Timestamp  Entering Grade Level  District Birth Month  \\\n",
       "0 2017-04-08 06:44:01                     1         6   September   \n",
       "1 2017-04-07 10:40:45                     0         2      August   \n",
       "2 2017-04-07 10:41:56                     1         2       March   \n",
       "3 2017-04-07 10:43:31                     0         2   September   \n",
       "4 2017-04-10 10:18:34                     0        22       April   \n",
       "\n",
       "  OLSAT Verbal Score OLSAT Verbal Percentile NNAT Non Verbal Raw Score  \\\n",
       "0                 28                      99                        45   \n",
       "1                 25                      99                        39   \n",
       "2                 27                      96                        42   \n",
       "3                 23                      97                        40   \n",
       "4                 25                      98                        38   \n",
       "\n",
       "   NNAT Non Verbal Percentile  Overall Score           School Preferences  \\\n",
       "0                          99             99  NEST+m, TAG, Anderson, Q300   \n",
       "1                          99             99             Anderson, NEST+m   \n",
       "2                          99             98                          NaN   \n",
       "3                          99             98                          NaN   \n",
       "4                          99             99   Brooklyn School of Inquiry   \n",
       "\n",
       "                            School Assigned Will you enroll there?  \n",
       "0                                      NEST                    YES  \n",
       "1                                       NaN                  Maybe  \n",
       "2                                       NaN                  Maybe  \n",
       "3                                       NaN                    NaN  \n",
       "4  Currently - local Brooklyn dual language                  Maybe  "
      ]
     },
     "execution_count": 19,
     "metadata": {},
     "output_type": "execute_result"
    }
   ],
   "source": [
    "df.head()"
   ]
  },
  {
   "cell_type": "code",
   "execution_count": 20,
   "metadata": {},
   "outputs": [
    {
     "data": {
      "text/plain": [
       "28                 18\n",
       "24                 13\n",
       "26                 12\n",
       "25                 11\n",
       "29                 11\n",
       "23                 11\n",
       "27                  7\n",
       "30                  4\n",
       "22                  3\n",
       "19                  3\n",
       "21                  3\n",
       "20                  2\n",
       "18                  2\n",
       "24/30               2\n",
       "99                  2\n",
       "19/30               1\n",
       "17                  1\n",
       "17/30               1\n",
       "83                  1\n",
       "35                  1\n",
       "90                  1\n",
       "23/30               1\n",
       "97                  1\n",
       "**                  1\n",
       "32                  1\n",
       "-                   1\n",
       "13                  1\n",
       "Fill out later.     1\n",
       "Name: OLSAT Verbal Score, dtype: int64"
      ]
     },
     "execution_count": 20,
     "metadata": {},
     "output_type": "execute_result"
    }
   ],
   "source": [
    "df['OLSAT Verbal Score'].value_counts()"
   ]
  },
  {
   "cell_type": "code",
   "execution_count": 21,
   "metadata": {},
   "outputs": [],
   "source": [
    "df['OLSAT Verbal Score'].replace('24/30', '24', inplace = True)\n",
    "df['OLSAT Verbal Score'].replace('17/30', '17', inplace = True)\n",
    "df['OLSAT Verbal Score'].replace('23/30', '23', inplace = True)\n",
    "df['OLSAT Verbal Score'].replace('-', np.nan, inplace = True)\n",
    "df['OLSAT Verbal Score'].replace(['Fill out later.', '**'], np.nan, inplace = True)\n",
    "df['OLSAT Verbal Score'].replace('19/30', '19', inplace = True)"
   ]
  },
  {
   "cell_type": "code",
   "execution_count": 22,
   "metadata": {},
   "outputs": [
    {
     "data": {
      "text/plain": [
       "28    18\n",
       "24    15\n",
       "23    12\n",
       "26    12\n",
       "29    11\n",
       "25    11\n",
       "27     7\n",
       "19     4\n",
       "30     4\n",
       "22     3\n",
       "21     3\n",
       "99     2\n",
       "17     2\n",
       "18     2\n",
       "20     2\n",
       "83     1\n",
       "97     1\n",
       "32     1\n",
       "13     1\n",
       "35     1\n",
       "90     1\n",
       "Name: OLSAT Verbal Score, dtype: int64"
      ]
     },
     "execution_count": 22,
     "metadata": {},
     "output_type": "execute_result"
    }
   ],
   "source": [
    "df['OLSAT Verbal Score'].value_counts()"
   ]
  },
  {
   "cell_type": "code",
   "execution_count": 23,
   "metadata": {},
   "outputs": [],
   "source": [
    "df.dropna(subset=['OLSAT Verbal Score'], inplace = True)"
   ]
  },
  {
   "cell_type": "code",
   "execution_count": 24,
   "metadata": {},
   "outputs": [],
   "source": [
    "df['OLSAT Verbal Score'] = df['OLSAT Verbal Score'].astype(int)"
   ]
  },
  {
   "cell_type": "code",
   "execution_count": 25,
   "metadata": {},
   "outputs": [
    {
     "name": "stdout",
     "output_type": "stream",
     "text": [
      "<class 'pandas.core.frame.DataFrame'>\n",
      "Int64Index: 114 entries, 0 to 116\n",
      "Data columns (total 12 columns):\n",
      " #   Column                      Non-Null Count  Dtype         \n",
      "---  ------                      --------------  -----         \n",
      " 0   Timestamp                   114 non-null    datetime64[ns]\n",
      " 1   Entering Grade Level        114 non-null    int64         \n",
      " 2   District                    114 non-null    int32         \n",
      " 3   Birth Month                 114 non-null    object        \n",
      " 4   OLSAT Verbal Score          114 non-null    int32         \n",
      " 5   OLSAT Verbal Percentile     114 non-null    object        \n",
      " 6   NNAT Non Verbal Raw Score   114 non-null    object        \n",
      " 7   NNAT Non Verbal Percentile  114 non-null    int64         \n",
      " 8   Overall Score               114 non-null    int64         \n",
      " 9   School Preferences          74 non-null     object        \n",
      " 10  School Assigned             28 non-null     object        \n",
      " 11  Will you enroll there?      70 non-null     object        \n",
      "dtypes: datetime64[ns](1), int32(2), int64(3), object(6)\n",
      "memory usage: 10.7+ KB\n"
     ]
    }
   ],
   "source": [
    "df.info()"
   ]
  },
  {
   "cell_type": "code",
   "execution_count": 26,
   "metadata": {},
   "outputs": [
    {
     "data": {
      "text/plain": [
       "99    50\n",
       "97    13\n",
       "96    11\n",
       "98    11\n",
       "89     4\n",
       "90     3\n",
       "87     3\n",
       "81     3\n",
       "86     3\n",
       "94     2\n",
       "83     2\n",
       "95     2\n",
       "93     1\n",
       "84     1\n",
       "77     1\n",
       "69     1\n",
       "55     1\n",
       "79     1\n",
       "88     1\n",
       "Name: OLSAT Verbal Percentile, dtype: int64"
      ]
     },
     "execution_count": 26,
     "metadata": {},
     "output_type": "execute_result"
    }
   ],
   "source": [
    "df['OLSAT Verbal Percentile'].value_counts()"
   ]
  },
  {
   "cell_type": "code",
   "execution_count": 27,
   "metadata": {},
   "outputs": [],
   "source": [
    "df['OLSAT Verbal Percentile'] = df['OLSAT Verbal Percentile'].astype(int)"
   ]
  },
  {
   "cell_type": "code",
   "execution_count": 28,
   "metadata": {},
   "outputs": [
    {
     "data": {
      "text/plain": [
       "40       13\n",
       "44       11\n",
       "39       11\n",
       "45       10\n",
       "42       10\n",
       "43        8\n",
       "41        7\n",
       "38        7\n",
       "46        6\n",
       "37        6\n",
       "36        3\n",
       "47        3\n",
       "34        3\n",
       "99        3\n",
       "33        2\n",
       "48        2\n",
       "36/48     2\n",
       "97        1\n",
       "27        1\n",
       "35        1\n",
       "39/48     1\n",
       "41/48     1\n",
       "90        1\n",
       "40/48     1\n",
       "Name: NNAT Non Verbal Raw Score, dtype: int64"
      ]
     },
     "execution_count": 28,
     "metadata": {},
     "output_type": "execute_result"
    }
   ],
   "source": [
    "df['NNAT Non Verbal Raw Score'].value_counts()"
   ]
  },
  {
   "cell_type": "code",
   "execution_count": 29,
   "metadata": {},
   "outputs": [],
   "source": [
    "df['NNAT Non Verbal Raw Score'].replace('36/48', '48', inplace = True)\n",
    "df['NNAT Non Verbal Raw Score'].replace('39/48', '39', inplace = True)\n",
    "df['NNAT Non Verbal Raw Score'].replace('40/48', '40', inplace = True)\n",
    "df['NNAT Non Verbal Raw Score'].replace('41/48', '41', inplace = True)"
   ]
  },
  {
   "cell_type": "code",
   "execution_count": 30,
   "metadata": {},
   "outputs": [],
   "source": [
    "df['NNAT Non Verbal Raw Score'] = df['NNAT Non Verbal Raw Score'].astype(int)"
   ]
  },
  {
   "cell_type": "code",
   "execution_count": 31,
   "metadata": {},
   "outputs": [
    {
     "name": "stdout",
     "output_type": "stream",
     "text": [
      "<class 'pandas.core.frame.DataFrame'>\n",
      "Int64Index: 114 entries, 0 to 116\n",
      "Data columns (total 12 columns):\n",
      " #   Column                      Non-Null Count  Dtype         \n",
      "---  ------                      --------------  -----         \n",
      " 0   Timestamp                   114 non-null    datetime64[ns]\n",
      " 1   Entering Grade Level        114 non-null    int64         \n",
      " 2   District                    114 non-null    int32         \n",
      " 3   Birth Month                 114 non-null    object        \n",
      " 4   OLSAT Verbal Score          114 non-null    int32         \n",
      " 5   OLSAT Verbal Percentile     114 non-null    int32         \n",
      " 6   NNAT Non Verbal Raw Score   114 non-null    int32         \n",
      " 7   NNAT Non Verbal Percentile  114 non-null    int64         \n",
      " 8   Overall Score               114 non-null    int64         \n",
      " 9   School Preferences          74 non-null     object        \n",
      " 10  School Assigned             28 non-null     object        \n",
      " 11  Will you enroll there?      70 non-null     object        \n",
      "dtypes: datetime64[ns](1), int32(4), int64(3), object(4)\n",
      "memory usage: 9.8+ KB\n"
     ]
    }
   ],
   "source": [
    "df.info()"
   ]
  },
  {
   "cell_type": "code",
   "execution_count": 32,
   "metadata": {},
   "outputs": [
    {
     "data": {
      "text/plain": [
       "99    99\n",
       "98    10\n",
       "95     2\n",
       "90     2\n",
       "93     1\n",
       "Name: NNAT Non Verbal Percentile, dtype: int64"
      ]
     },
     "execution_count": 32,
     "metadata": {},
     "output_type": "execute_result"
    }
   ],
   "source": [
    "df['NNAT Non Verbal Percentile'].value_counts()"
   ]
  },
  {
   "cell_type": "code",
   "execution_count": 33,
   "metadata": {},
   "outputs": [
    {
     "data": {
      "text/plain": [
       "99    60\n",
       "98    25\n",
       "96    13\n",
       "95     5\n",
       "97     3\n",
       "94     3\n",
       "90     2\n",
       "92     1\n",
       "91     1\n",
       "76     1\n",
       "Name: Overall Score, dtype: int64"
      ]
     },
     "execution_count": 33,
     "metadata": {},
     "output_type": "execute_result"
    }
   ],
   "source": [
    "df['Overall Score'].value_counts()"
   ]
  },
  {
   "cell_type": "code",
   "execution_count": 34,
   "metadata": {},
   "outputs": [
    {
     "data": {
      "text/plain": [
       "40"
      ]
     },
     "execution_count": 34,
     "metadata": {},
     "output_type": "execute_result"
    }
   ],
   "source": [
    "df['School Preferences'].isnull().sum()"
   ]
  },
  {
   "cell_type": "code",
   "execution_count": 35,
   "metadata": {},
   "outputs": [
    {
     "data": {
      "text/plain": [
       "Yes      43\n",
       "Maybe    22\n",
       "No        4\n",
       "YES       1\n",
       "Name: Will you enroll there?, dtype: int64"
      ]
     },
     "execution_count": 35,
     "metadata": {},
     "output_type": "execute_result"
    }
   ],
   "source": [
    "df['Will you enroll there?'].value_counts()"
   ]
  },
  {
   "cell_type": "code",
   "execution_count": 36,
   "metadata": {},
   "outputs": [],
   "source": [
    "df['Will you enroll there?'].replace('YES', 'Yes', inplace = True)"
   ]
  },
  {
   "cell_type": "code",
   "execution_count": 37,
   "metadata": {},
   "outputs": [
    {
     "data": {
      "text/html": [
       "<div>\n",
       "<style scoped>\n",
       "    .dataframe tbody tr th:only-of-type {\n",
       "        vertical-align: middle;\n",
       "    }\n",
       "\n",
       "    .dataframe tbody tr th {\n",
       "        vertical-align: top;\n",
       "    }\n",
       "\n",
       "    .dataframe thead th {\n",
       "        text-align: right;\n",
       "    }\n",
       "</style>\n",
       "<table border=\"1\" class=\"dataframe\">\n",
       "  <thead>\n",
       "    <tr style=\"text-align: right;\">\n",
       "      <th></th>\n",
       "      <th>Timestamp</th>\n",
       "      <th>Entering Grade Level</th>\n",
       "      <th>District</th>\n",
       "      <th>Birth Month</th>\n",
       "      <th>OLSAT Verbal Score</th>\n",
       "      <th>OLSAT Verbal Percentile</th>\n",
       "      <th>NNAT Non Verbal Raw Score</th>\n",
       "      <th>NNAT Non Verbal Percentile</th>\n",
       "      <th>Overall Score</th>\n",
       "      <th>School Preferences</th>\n",
       "      <th>School Assigned</th>\n",
       "      <th>Will you enroll there?</th>\n",
       "    </tr>\n",
       "  </thead>\n",
       "  <tbody>\n",
       "    <tr>\n",
       "      <th>0</th>\n",
       "      <td>2017-04-08 06:44:01</td>\n",
       "      <td>1</td>\n",
       "      <td>6</td>\n",
       "      <td>September</td>\n",
       "      <td>28</td>\n",
       "      <td>99</td>\n",
       "      <td>45</td>\n",
       "      <td>99</td>\n",
       "      <td>99</td>\n",
       "      <td>NEST+m, TAG, Anderson, Q300</td>\n",
       "      <td>NEST</td>\n",
       "      <td>Yes</td>\n",
       "    </tr>\n",
       "    <tr>\n",
       "      <th>1</th>\n",
       "      <td>2017-04-07 10:40:45</td>\n",
       "      <td>0</td>\n",
       "      <td>2</td>\n",
       "      <td>August</td>\n",
       "      <td>25</td>\n",
       "      <td>99</td>\n",
       "      <td>39</td>\n",
       "      <td>99</td>\n",
       "      <td>99</td>\n",
       "      <td>Anderson, NEST+m</td>\n",
       "      <td>NaN</td>\n",
       "      <td>Maybe</td>\n",
       "    </tr>\n",
       "    <tr>\n",
       "      <th>2</th>\n",
       "      <td>2017-04-07 10:41:56</td>\n",
       "      <td>1</td>\n",
       "      <td>2</td>\n",
       "      <td>March</td>\n",
       "      <td>27</td>\n",
       "      <td>96</td>\n",
       "      <td>42</td>\n",
       "      <td>99</td>\n",
       "      <td>98</td>\n",
       "      <td>NaN</td>\n",
       "      <td>NaN</td>\n",
       "      <td>Maybe</td>\n",
       "    </tr>\n",
       "    <tr>\n",
       "      <th>3</th>\n",
       "      <td>2017-04-07 10:43:31</td>\n",
       "      <td>0</td>\n",
       "      <td>2</td>\n",
       "      <td>September</td>\n",
       "      <td>23</td>\n",
       "      <td>97</td>\n",
       "      <td>40</td>\n",
       "      <td>99</td>\n",
       "      <td>98</td>\n",
       "      <td>NaN</td>\n",
       "      <td>NaN</td>\n",
       "      <td>NaN</td>\n",
       "    </tr>\n",
       "    <tr>\n",
       "      <th>4</th>\n",
       "      <td>2017-04-10 10:18:34</td>\n",
       "      <td>0</td>\n",
       "      <td>22</td>\n",
       "      <td>April</td>\n",
       "      <td>25</td>\n",
       "      <td>98</td>\n",
       "      <td>38</td>\n",
       "      <td>99</td>\n",
       "      <td>99</td>\n",
       "      <td>Brooklyn School of Inquiry</td>\n",
       "      <td>Currently - local Brooklyn dual language</td>\n",
       "      <td>Maybe</td>\n",
       "    </tr>\n",
       "  </tbody>\n",
       "</table>\n",
       "</div>"
      ],
      "text/plain": [
       "            Timestamp  Entering Grade Level  District Birth Month  \\\n",
       "0 2017-04-08 06:44:01                     1         6   September   \n",
       "1 2017-04-07 10:40:45                     0         2      August   \n",
       "2 2017-04-07 10:41:56                     1         2       March   \n",
       "3 2017-04-07 10:43:31                     0         2   September   \n",
       "4 2017-04-10 10:18:34                     0        22       April   \n",
       "\n",
       "   OLSAT Verbal Score  OLSAT Verbal Percentile  NNAT Non Verbal Raw Score  \\\n",
       "0                  28                       99                         45   \n",
       "1                  25                       99                         39   \n",
       "2                  27                       96                         42   \n",
       "3                  23                       97                         40   \n",
       "4                  25                       98                         38   \n",
       "\n",
       "   NNAT Non Verbal Percentile  Overall Score           School Preferences  \\\n",
       "0                          99             99  NEST+m, TAG, Anderson, Q300   \n",
       "1                          99             99             Anderson, NEST+m   \n",
       "2                          99             98                          NaN   \n",
       "3                          99             98                          NaN   \n",
       "4                          99             99   Brooklyn School of Inquiry   \n",
       "\n",
       "                            School Assigned Will you enroll there?  \n",
       "0                                      NEST                    Yes  \n",
       "1                                       NaN                  Maybe  \n",
       "2                                       NaN                  Maybe  \n",
       "3                                       NaN                    NaN  \n",
       "4  Currently - local Brooklyn dual language                  Maybe  "
      ]
     },
     "execution_count": 37,
     "metadata": {},
     "output_type": "execute_result"
    }
   ],
   "source": [
    "df.head()"
   ]
  },
  {
   "cell_type": "markdown",
   "metadata": {},
   "source": [
    "## Data Visualization"
   ]
  },
  {
   "cell_type": "code",
   "execution_count": 38,
   "metadata": {},
   "outputs": [
    {
     "data": {
      "text/plain": [
       "Text(0, 0.5, 'Frequency')"
      ]
     },
     "execution_count": 38,
     "metadata": {},
     "output_type": "execute_result"
    },
    {
     "data": {
      "image/png": "[encoded data removed]",
      "text/plain": [
       "<Figure size 432x288 with 1 Axes>"
      ]
     },
     "metadata": {
      "needs_background": "light"
     },
     "output_type": "display_data"
    }
   ],
   "source": [
    "df['Entering Grade Level'].value_counts().plot(kind = 'bar')\n",
    "plt.title('Entering Grade Level', y= 1.02)\n",
    "plt.ylabel('Frequency')"
   ]
  },
  {
   "cell_type": "code",
   "execution_count": 39,
   "metadata": {},
   "outputs": [],
   "source": [
    "# The mode of the dataset for 'Entering Grade Level' is 0."
   ]
  },
  {
   "cell_type": "code",
   "execution_count": 40,
   "metadata": {},
   "outputs": [],
   "source": [
    "labels = [0, 1, 2, 3]"
   ]
  },
  {
   "cell_type": "code",
   "execution_count": 41,
   "metadata": {},
   "outputs": [
    {
     "data": {
      "text/plain": [
       "Text(0.5, 1.0, 'Pie Chart showing the frequency of entering grade levels')"
      ]
     },
     "execution_count": 41,
     "metadata": {},
     "output_type": "execute_result"
    },
    {
     "data": {
      "image/png": "[encoded data removed]",
      "text/plain": [
       "<Figure size 432x288 with 1 Axes>"
      ]
     },
     "metadata": {},
     "output_type": "display_data"
    }
   ],
   "source": [
    "plt.pie(df['Entering Grade Level'].value_counts(), labels = labels, autopct='%1.1f%%')\n",
    "plt.title('Pie Chart showing the frequency of entering grade levels')"
   ]
  },
  {
   "cell_type": "code",
   "execution_count": 42,
   "metadata": {},
   "outputs": [
    {
     "data": {
      "text/plain": [
       "<matplotlib.axes._subplots.AxesSubplot at 0x1df8f108108>"
      ]
     },
     "execution_count": 42,
     "metadata": {},
     "output_type": "execute_result"
    },
    {
     "data": {
      "image/png": "[encoded data removed]",
      "text/plain": [
       "<Figure size 432x288 with 1 Axes>"
      ]
     },
     "metadata": {
      "needs_background": "light"
     },
     "output_type": "display_data"
    }
   ],
   "source": [
    "df['OLSAT Verbal Score'].plot(kind = 'hist')"
   ]
  },
  {
   "cell_type": "code",
   "execution_count": 43,
   "metadata": {},
   "outputs": [],
   "source": [
    "# There are outliers in the distribution. The OLSAT Verbal Score is out of 30, so the points greater than 30 must be removed."
   ]
  },
  {
   "cell_type": "code",
   "execution_count": 44,
   "metadata": {},
   "outputs": [],
   "source": [
    "df['OLSAT Verbal Score'] = np.where(df['OLSAT Verbal Score'] > 30, np.nan, df['OLSAT Verbal Score'])"
   ]
  },
  {
   "cell_type": "code",
   "execution_count": 45,
   "metadata": {},
   "outputs": [
    {
     "data": {
      "text/plain": [
       "28.0    18\n",
       "24.0    15\n",
       "26.0    12\n",
       "23.0    12\n",
       "29.0    11\n",
       "25.0    11\n",
       "27.0     7\n",
       "30.0     4\n",
       "19.0     4\n",
       "22.0     3\n",
       "21.0     3\n",
       "20.0     2\n",
       "18.0     2\n",
       "17.0     2\n",
       "13.0     1\n",
       "Name: OLSAT Verbal Score, dtype: int64"
      ]
     },
     "execution_count": 45,
     "metadata": {},
     "output_type": "execute_result"
    }
   ],
   "source": [
    "df['OLSAT Verbal Score'].value_counts()"
   ]
  },
  {
   "cell_type": "code",
   "execution_count": 46,
   "metadata": {},
   "outputs": [],
   "source": [
    "df.dropna(subset=['OLSAT Verbal Score'], inplace = True)"
   ]
  },
  {
   "cell_type": "code",
   "execution_count": 47,
   "metadata": {},
   "outputs": [],
   "source": [
    "df['OLSAT Verbal Score'] = df['OLSAT Verbal Score'].astype(int)"
   ]
  },
  {
   "cell_type": "code",
   "execution_count": 48,
   "metadata": {},
   "outputs": [
    {
     "name": "stdout",
     "output_type": "stream",
     "text": [
      "<class 'pandas.core.frame.DataFrame'>\n",
      "Int64Index: 107 entries, 0 to 116\n",
      "Data columns (total 12 columns):\n",
      " #   Column                      Non-Null Count  Dtype         \n",
      "---  ------                      --------------  -----         \n",
      " 0   Timestamp                   107 non-null    datetime64[ns]\n",
      " 1   Entering Grade Level        107 non-null    int64         \n",
      " 2   District                    107 non-null    int32         \n",
      " 3   Birth Month                 107 non-null    object        \n",
      " 4   OLSAT Verbal Score          107 non-null    int32         \n",
      " 5   OLSAT Verbal Percentile     107 non-null    int32         \n",
      " 6   NNAT Non Verbal Raw Score   107 non-null    int32         \n",
      " 7   NNAT Non Verbal Percentile  107 non-null    int64         \n",
      " 8   Overall Score               107 non-null    int64         \n",
      " 9   School Preferences          70 non-null     object        \n",
      " 10  School Assigned             25 non-null     object        \n",
      " 11  Will you enroll there?      67 non-null     object        \n",
      "dtypes: datetime64[ns](1), int32(4), int64(3), object(4)\n",
      "memory usage: 9.2+ KB\n"
     ]
    }
   ],
   "source": [
    "df.info()"
   ]
  },
  {
   "cell_type": "code",
   "execution_count": 49,
   "metadata": {},
   "outputs": [
    {
     "data": {
      "text/plain": [
       "Text(0.5, 1.02, 'Histogram showing OLSAT Verbal Score')"
      ]
     },
     "execution_count": 49,
     "metadata": {},
     "output_type": "execute_result"
    },
    {
     "data": {
      "image/png": "[encoded data removed]",
      "text/plain": [
       "<Figure size 432x288 with 1 Axes>"
      ]
     },
     "metadata": {
      "needs_background": "light"
     },
     "output_type": "display_data"
    }
   ],
   "source": [
    "df['OLSAT Verbal Score'].plot(kind = 'hist', color = 'c')\n",
    "plt.xlabel('OLSAT Verbal Score')\n",
    "plt.ylabel('Frequency')\n",
    "plt.title('Histogram showing OLSAT Verbal Score', y= 1.02)"
   ]
  },
  {
   "cell_type": "code",
   "execution_count": 50,
   "metadata": {},
   "outputs": [
    {
     "data": {
      "text/plain": [
       "Text(0.5, 1.02, 'Histogram showing NNAT Non Verbal Raw Score')"
      ]
     },
     "execution_count": 50,
     "metadata": {},
     "output_type": "execute_result"
    },
    {
     "data": {
      "image/png": "[encoded data removed]",
      "text/plain": [
       "<Figure size 432x288 with 1 Axes>"
      ]
     },
     "metadata": {
      "needs_background": "light"
     },
     "output_type": "display_data"
    }
   ],
   "source": [
    "df['NNAT Non Verbal Raw Score'].plot(kind = 'hist', color = 'm')\n",
    "plt.xlabel('NNAT Non Verbal Raw Score')\n",
    "plt.ylabel('Frequency')\n",
    "plt.title('Histogram showing NNAT Non Verbal Raw Score', y= 1.02)"
   ]
  },
  {
   "cell_type": "code",
   "execution_count": 51,
   "metadata": {},
   "outputs": [
    {
     "data": {
      "text/plain": [
       "Text(0.5, 1.02, 'Histogram showing Overall Score')"
      ]
     },
     "execution_count": 51,
     "metadata": {},
     "output_type": "execute_result"
    },
    {
     "data": {
      "image/png": "[encoded data removed]",
      "text/plain": [
       "<Figure size 432x288 with 1 Axes>"
      ]
     },
     "metadata": {
      "needs_background": "light"
     },
     "output_type": "display_data"
    }
   ],
   "source": [
    "df['Overall Score'].plot(kind = 'hist', color = 'y')\n",
    "plt.xlabel('Overall Score')\n",
    "plt.ylabel('Frequency')\n",
    "plt.title('Histogram showing Overall Score', y= 1.02)"
   ]
  },
  {
   "cell_type": "code",
   "execution_count": 52,
   "metadata": {},
   "outputs": [],
   "source": [
    "# Most of the people have an overall score between 95 and 100."
   ]
  },
  {
   "cell_type": "code",
   "execution_count": 53,
   "metadata": {},
   "outputs": [
    {
     "data": {
      "text/plain": [
       "Text(0.5, 1.02, 'Scatter Plot of Entering grade level and overall score')"
      ]
     },
     "execution_count": 53,
     "metadata": {},
     "output_type": "execute_result"
    },
    {
     "data": {
      "image/png": "[encoded data removed]",
      "text/plain": [
       "<Figure size 360x360 with 1 Axes>"
      ]
     },
     "metadata": {
      "needs_background": "light"
     },
     "output_type": "display_data"
    }
   ],
   "source": [
    "sns.relplot('Entering Grade Level', 'Overall Score', color = 'b', data = df)\n",
    "plt.title('Scatter Plot of Entering grade level and overall score', y= 1.02)"
   ]
  },
  {
   "cell_type": "code",
   "execution_count": 54,
   "metadata": {},
   "outputs": [],
   "source": [
    "# As Entering grade level increases, they have higher overall scores."
   ]
  },
  {
   "cell_type": "code",
   "execution_count": 55,
   "metadata": {},
   "outputs": [
    {
     "data": {
      "text/html": [
       "<div>\n",
       "<style scoped>\n",
       "    .dataframe tbody tr th:only-of-type {\n",
       "        vertical-align: middle;\n",
       "    }\n",
       "\n",
       "    .dataframe tbody tr th {\n",
       "        vertical-align: top;\n",
       "    }\n",
       "\n",
       "    .dataframe thead th {\n",
       "        text-align: right;\n",
       "    }\n",
       "</style>\n",
       "<table border=\"1\" class=\"dataframe\">\n",
       "  <thead>\n",
       "    <tr style=\"text-align: right;\">\n",
       "      <th></th>\n",
       "      <th>Timestamp</th>\n",
       "      <th>Entering Grade Level</th>\n",
       "      <th>District</th>\n",
       "      <th>Birth Month</th>\n",
       "      <th>OLSAT Verbal Score</th>\n",
       "      <th>OLSAT Verbal Percentile</th>\n",
       "      <th>NNAT Non Verbal Raw Score</th>\n",
       "      <th>NNAT Non Verbal Percentile</th>\n",
       "      <th>Overall Score</th>\n",
       "      <th>School Preferences</th>\n",
       "      <th>School Assigned</th>\n",
       "      <th>Will you enroll there?</th>\n",
       "    </tr>\n",
       "  </thead>\n",
       "  <tbody>\n",
       "    <tr>\n",
       "      <th>0</th>\n",
       "      <td>2017-04-08 06:44:01</td>\n",
       "      <td>1</td>\n",
       "      <td>6</td>\n",
       "      <td>September</td>\n",
       "      <td>28</td>\n",
       "      <td>99</td>\n",
       "      <td>45</td>\n",
       "      <td>99</td>\n",
       "      <td>99</td>\n",
       "      <td>NEST+m, TAG, Anderson, Q300</td>\n",
       "      <td>NEST</td>\n",
       "      <td>Yes</td>\n",
       "    </tr>\n",
       "    <tr>\n",
       "      <th>1</th>\n",
       "      <td>2017-04-07 10:40:45</td>\n",
       "      <td>0</td>\n",
       "      <td>2</td>\n",
       "      <td>August</td>\n",
       "      <td>25</td>\n",
       "      <td>99</td>\n",
       "      <td>39</td>\n",
       "      <td>99</td>\n",
       "      <td>99</td>\n",
       "      <td>Anderson, NEST+m</td>\n",
       "      <td>NaN</td>\n",
       "      <td>Maybe</td>\n",
       "    </tr>\n",
       "    <tr>\n",
       "      <th>2</th>\n",
       "      <td>2017-04-07 10:41:56</td>\n",
       "      <td>1</td>\n",
       "      <td>2</td>\n",
       "      <td>March</td>\n",
       "      <td>27</td>\n",
       "      <td>96</td>\n",
       "      <td>42</td>\n",
       "      <td>99</td>\n",
       "      <td>98</td>\n",
       "      <td>NaN</td>\n",
       "      <td>NaN</td>\n",
       "      <td>Maybe</td>\n",
       "    </tr>\n",
       "    <tr>\n",
       "      <th>3</th>\n",
       "      <td>2017-04-07 10:43:31</td>\n",
       "      <td>0</td>\n",
       "      <td>2</td>\n",
       "      <td>September</td>\n",
       "      <td>23</td>\n",
       "      <td>97</td>\n",
       "      <td>40</td>\n",
       "      <td>99</td>\n",
       "      <td>98</td>\n",
       "      <td>NaN</td>\n",
       "      <td>NaN</td>\n",
       "      <td>NaN</td>\n",
       "    </tr>\n",
       "    <tr>\n",
       "      <th>4</th>\n",
       "      <td>2017-04-10 10:18:34</td>\n",
       "      <td>0</td>\n",
       "      <td>22</td>\n",
       "      <td>April</td>\n",
       "      <td>25</td>\n",
       "      <td>98</td>\n",
       "      <td>38</td>\n",
       "      <td>99</td>\n",
       "      <td>99</td>\n",
       "      <td>Brooklyn School of Inquiry</td>\n",
       "      <td>Currently - local Brooklyn dual language</td>\n",
       "      <td>Maybe</td>\n",
       "    </tr>\n",
       "  </tbody>\n",
       "</table>\n",
       "</div>"
      ],
      "text/plain": [
       "            Timestamp  Entering Grade Level  District Birth Month  \\\n",
       "0 2017-04-08 06:44:01                     1         6   September   \n",
       "1 2017-04-07 10:40:45                     0         2      August   \n",
       "2 2017-04-07 10:41:56                     1         2       March   \n",
       "3 2017-04-07 10:43:31                     0         2   September   \n",
       "4 2017-04-10 10:18:34                     0        22       April   \n",
       "\n",
       "   OLSAT Verbal Score  OLSAT Verbal Percentile  NNAT Non Verbal Raw Score  \\\n",
       "0                  28                       99                         45   \n",
       "1                  25                       99                         39   \n",
       "2                  27                       96                         42   \n",
       "3                  23                       97                         40   \n",
       "4                  25                       98                         38   \n",
       "\n",
       "   NNAT Non Verbal Percentile  Overall Score           School Preferences  \\\n",
       "0                          99             99  NEST+m, TAG, Anderson, Q300   \n",
       "1                          99             99             Anderson, NEST+m   \n",
       "2                          99             98                          NaN   \n",
       "3                          99             98                          NaN   \n",
       "4                          99             99   Brooklyn School of Inquiry   \n",
       "\n",
       "                            School Assigned Will you enroll there?  \n",
       "0                                      NEST                    Yes  \n",
       "1                                       NaN                  Maybe  \n",
       "2                                       NaN                  Maybe  \n",
       "3                                       NaN                    NaN  \n",
       "4  Currently - local Brooklyn dual language                  Maybe  "
      ]
     },
     "execution_count": 55,
     "metadata": {},
     "output_type": "execute_result"
    }
   ],
   "source": [
    "df.head()"
   ]
  },
  {
   "cell_type": "code",
   "execution_count": 64,
   "metadata": {},
   "outputs": [],
   "source": [
    "enroll = ['Yes', 'Maybe', 'No']"
   ]
  },
  {
   "cell_type": "code",
   "execution_count": 67,
   "metadata": {},
   "outputs": [
    {
     "data": {
      "text/plain": [
       "Text(0.5, 1.0, 'Will you enroll to the school you are assigned?')"
      ]
     },
     "execution_count": 67,
     "metadata": {},
     "output_type": "execute_result"
    },
    {
     "data": {
      "image/png": "[encoded data removed]",
      "text/plain": [
       "<Figure size 432x288 with 1 Axes>"
      ]
     },
     "metadata": {},
     "output_type": "display_data"
    }
   ],
   "source": [
    "plt.pie(df['Will you enroll there?'].value_counts(), autopct='%1.1f%%', labels = enroll)\n",
    "plt.title('Will you enroll to the school you are assigned?')"
   ]
  }
 ],
 "metadata": {
  "kernelspec": {
   "display_name": "Python 3",
   "language": "python",
   "name": "python3"
  },
  "language_info": {
   "codemirror_mode": {
    "name": "ipython",
    "version": 3
   },
   "file_extension": ".py",
   "mimetype": "text/x-python",
   "name": "python",
   "nbconvert_exporter": "python",
   "pygments_lexer": "ipython3",
   "version": "3.7.6"
  }
 },
 "nbformat": 4,
 "nbformat_minor": 4
}
